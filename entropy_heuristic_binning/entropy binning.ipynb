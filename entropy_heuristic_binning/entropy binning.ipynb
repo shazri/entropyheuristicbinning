{
 "cells": [
  {
   "cell_type": "code",
   "execution_count": null,
   "id": "707b4052",
   "metadata": {},
   "outputs": [],
   "source": [
    "!pip install entropy-heuristic-binning\n"
   ]
  },
  {
   "cell_type": "code",
   "execution_count": null,
   "id": "818bc57b",
   "metadata": {},
   "outputs": [],
   "source": [
    "from entHeuristicBinning import entropyHeuristicBinning"
   ]
  },
  {
   "cell_type": "code",
   "execution_count": null,
   "id": "739b8794",
   "metadata": {},
   "outputs": [],
   "source": [
    "#entropyHeuristicBinning.heuristicbinning()\n",
    "import numpy as np\n",
    "\n",
    "\n",
    "inp = np.random.random(200)*100\n",
    "self=[]\n",
    "#inp = np.random.randint(100, size=(1000))\n",
    "\n",
    "a , b , c , d = entropyHeuristicBinning.heuristicbinning(self,inp)\n",
    "a\n"
   ]
  },
  {
   "cell_type": "code",
   "execution_count": null,
   "id": "9324052d",
   "metadata": {},
   "outputs": [],
   "source": [
    "# binning a set of numbers"
   ]
  },
  {
   "cell_type": "code",
   "execution_count": null,
   "id": "5c1b18e9",
   "metadata": {},
   "outputs": [],
   "source": [
    "\n",
    "print(type_sig)\n",
    "print(str(type_sig))\n"
   ]
  },
  {
   "cell_type": "code",
   "execution_count": null,
   "id": "3212bc5c",
   "metadata": {},
   "outputs": [],
   "source": [
    "#from scipy.stats import entropy\n",
    "import numpy as np\n",
    "\n",
    "inp = np.random.random(200)*100\n",
    "#inp = np.random.randint(100, size=(1000))\n",
    "\n",
    "a , b , c , d = entropy_heuristic_binning(inp)\n",
    "a\n"
   ]
  },
  {
   "cell_type": "code",
   "execution_count": null,
   "id": "81880378",
   "metadata": {},
   "outputs": [],
   "source": [
    "\n",
    "def entropy_heuristic_binning(signal):\n",
    "\n",
    "    import numpy as np\n",
    "    from kneed import DataGenerator, KneeLocator\n",
    "    import math\n",
    "    import numpy as np\n",
    "    import pandas as pd\n",
    "    import scipy.optimize as optim\n",
    "    import matplotlib.pyplot as plt\n",
    "\n",
    "\n",
    "    def entrp(probs):\n",
    "        # quantifies the average amount of surprise\n",
    "        p = np.full(probs.shape, 0.0)\n",
    "        np.log(probs, out=p, where=(probs > 0))\n",
    "        return -((p * probs).sum())\n",
    "    \n",
    "    type_sig = type(signal)\n",
    "\n",
    "    if str(type_sig) == \"<class 'numpy.ndarray'>\":\n",
    "        print('ok input datatype')\n",
    "    if str(type_sig) != \"<class 'numpy.ndarray'>\":\n",
    "        print('input cast to numpy.ndarray')\n",
    "        signal = np.array(signal)\n",
    "\n",
    "\n",
    "    collate = []\n",
    "    x = []\n",
    "    u, c = np.unique(signal, return_counts=True)\n",
    "    u_   = len(u)\n",
    "\n",
    "    for l in range(u_):\n",
    "        hist = np.histogram(signal, bins=l+1, density=True)\n",
    "        data = hist[0]\n",
    "        unique, counts = np.unique(data, return_counts=True)\n",
    "        prob = counts/counts.sum()\n",
    "        ent = entrp(prob)\n",
    "        collate.append(ent)\n",
    "        x.append(l+1)\n",
    "\n",
    "    print(collate)\n",
    "\n",
    "    plt.plot(collate)\n",
    "\n",
    "\n",
    "    # Define funcion with the coefficients to estimate\n",
    "    def my_logistic(t, a, b, c):\n",
    "        return 0.0001 + c / (1 + a * np.exp(-b*t))\n",
    "\n",
    "    # Randomly initialize the coefficients\n",
    "    p0 = np.random.exponential(size=3)\n",
    "    p0\n",
    "\n",
    "    # Set min bound 0 on all coefficients, and set different max bounds for each coefficient\n",
    "    bounds = (0, [100000., 3., 1000000000.])\n",
    "\n",
    "    (a,b,c),cov = optim.curve_fit(my_logistic, x, collate, bounds=bounds, p0=p0)\n",
    "\n",
    "    # Show the coefficients\n",
    "    a,b,c\n",
    "\n",
    "    x = np.array(x)\n",
    "    x\n",
    "\n",
    "    # Redefine the function with the new a, b and c\n",
    "    def my_logistic(t):\n",
    "        return 0.0001 + c / (1 + a * np.exp(-b*t))\n",
    "\n",
    "    plt.scatter(x, collate)\n",
    "    plt.plot(x, my_logistic(x))\n",
    "    plt.title('Logistic Model vs Real Observations')\n",
    "    plt.legend([ 'Real data', 'Logistic model'])\n",
    "    plt.xlabel('Bins')\n",
    "    plt.ylabel('Entropy')\n",
    "\n",
    "\n",
    "    kneedle = KneeLocator(x, my_logistic(x), S=1.0, curve=\"concave\", direction=\"increasing\")\n",
    "\n",
    "    print(round(kneedle.knee, 3))\n",
    "    \n",
    "    return round(kneedle.knee, 3),x,collate,my_logistic(x)\n",
    "\n"
   ]
  },
  {
   "cell_type": "code",
   "execution_count": null,
   "id": "af216909",
   "metadata": {},
   "outputs": [],
   "source": []
  },
  {
   "cell_type": "code",
   "execution_count": null,
   "id": "6039bf4e",
   "metadata": {},
   "outputs": [],
   "source": []
  },
  {
   "cell_type": "code",
   "execution_count": null,
   "id": "20e42bdf",
   "metadata": {},
   "outputs": [],
   "source": [
    "\n"
   ]
  },
  {
   "cell_type": "code",
   "execution_count": null,
   "id": "40315361",
   "metadata": {},
   "outputs": [],
   "source": [
    "\n"
   ]
  },
  {
   "cell_type": "code",
   "execution_count": null,
   "id": "726cef46",
   "metadata": {},
   "outputs": [],
   "source": [
    "!pip install lmfit"
   ]
  },
  {
   "cell_type": "code",
   "execution_count": null,
   "id": "83fa3ee1",
   "metadata": {},
   "outputs": [],
   "source": []
  },
  {
   "cell_type": "code",
   "execution_count": null,
   "id": "72a6e53b",
   "metadata": {},
   "outputs": [],
   "source": []
  },
  {
   "cell_type": "code",
   "execution_count": null,
   "id": "a5321115",
   "metadata": {},
   "outputs": [],
   "source": []
  },
  {
   "cell_type": "code",
   "execution_count": null,
   "id": "e50d8fe6",
   "metadata": {},
   "outputs": [],
   "source": []
  },
  {
   "cell_type": "code",
   "execution_count": null,
   "id": "1ebf74c0",
   "metadata": {},
   "outputs": [],
   "source": [
    "\n"
   ]
  },
  {
   "cell_type": "code",
   "execution_count": null,
   "id": "206bbc49",
   "metadata": {},
   "outputs": [],
   "source": []
  },
  {
   "cell_type": "code",
   "execution_count": null,
   "id": "f52cbe56",
   "metadata": {},
   "outputs": [],
   "source": []
  },
  {
   "cell_type": "code",
   "execution_count": null,
   "id": "8ae26558",
   "metadata": {},
   "outputs": [],
   "source": [
    "my_logistic(x)\n"
   ]
  },
  {
   "cell_type": "code",
   "execution_count": null,
   "id": "3c570c84",
   "metadata": {},
   "outputs": [],
   "source": []
  },
  {
   "cell_type": "code",
   "execution_count": null,
   "id": "31049a5c",
   "metadata": {},
   "outputs": [],
   "source": [
    "\n"
   ]
  },
  {
   "cell_type": "code",
   "execution_count": null,
   "id": "7ae5dab5",
   "metadata": {},
   "outputs": [],
   "source": [
    "res = entrp(prob)\n",
    "res"
   ]
  },
  {
   "cell_type": "code",
   "execution_count": null,
   "id": "7f2ec527",
   "metadata": {},
   "outputs": [],
   "source": [
    "collate = []\n",
    "\n",
    "for l in range(100):\n",
    "    hist = np.histogram(signal, bins=l+1, density=True)\n",
    "    data = hist[0]\n",
    "    #ent = -(data*np.log(np.abs(data))).sum()\n",
    "    ent = entropy(data)\n",
    "    collate.append(ent)\n",
    "\n",
    "print(collate)"
   ]
  },
  {
   "cell_type": "code",
   "execution_count": null,
   "id": "e0712e81",
   "metadata": {},
   "outputs": [],
   "source": [
    "import math\n",
    "collate = [0 if math.isnan(x) else x for x in collate]\n"
   ]
  },
  {
   "cell_type": "code",
   "execution_count": null,
   "id": "e698c252",
   "metadata": {},
   "outputs": [],
   "source": [
    "import matplotlib.pyplot as plt\n",
    "plt.plot(collate)\n"
   ]
  },
  {
   "cell_type": "code",
   "execution_count": null,
   "id": "adf3fbf8",
   "metadata": {},
   "outputs": [],
   "source": []
  }
 ],
 "metadata": {
  "kernelspec": {
   "display_name": "Python 3 (ipykernel)",
   "language": "python",
   "name": "python3"
  },
  "language_info": {
   "codemirror_mode": {
    "name": "ipython",
    "version": 3
   },
   "file_extension": ".py",
   "mimetype": "text/x-python",
   "name": "python",
   "nbconvert_exporter": "python",
   "pygments_lexer": "ipython3",
   "version": "3.9.7"
  }
 },
 "nbformat": 4,
 "nbformat_minor": 5
}
